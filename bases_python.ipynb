{
 "cells": [
    {
   "cell_type": "markdown",
   "metadata": {},
   "source": [
    "<u style=\"color:blue;\"><strong>Exercice 6 :</strong></u><br>\n",
    "A l'aide des variables <span style=\"font-family:Courier New;font-size: 100%;\">prenom</span> et <span style=\"font-family:Courier New;font-size: 100%;\">age</span> définies ci-dessous, construire une variable <span style=\"font-family:Courier New;font-size: 100%;\">phrase</span> qui contient la chaine :<br>\n",
    "<span style=\"font-family:Courier New;font-size: 100%;\">\"Je m'appelle ... et j'ai ... ans.\"</span><br>\n"
   ]
  },
  {
   "cell_type": "code",
   "execution_count": null,
   "metadata": {},
   "outputs": [],
   "source": [
    "prenom = \"Noah\"\n",
    "age = 10\n",
    "# Constuire la variable phrase, puis l'afficher"
   ]
  },
  {
   "cell_type": "code",
   "execution_count": null,
   "metadata": {},
   "outputs": [],
   "source": [
    "solution.phrase()"
   ]
  }
 ],
 "metadata": {
  "kernelspec": {
   "display_name": "Python 3 (ipykernel)",
   "language": "python",
   "name": "python3"
  },
  "language_info": {
   "codemirror_mode": {
    "name": "ipython",
    "version": 3
   },
   "file_extension": ".py",
   "mimetype": "text/x-python",
   "name": "python",
   "nbconvert_exporter": "python",
   "pygments_lexer": "ipython3",
   "version": "3.7.10"
  }
 },
 "nbformat": 4,
 "nbformat_minor": 4
}
